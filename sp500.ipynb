{
 "cells": [],
 "metadata": {
  "kernelspec": {
   "display_name": "proto-collect-stock-data-TaHiO2kv",
   "language": "python",
   "name": "python3"
  },
  "language_info": {
   "name": "python",
   "version": "3.13.3"
  }
 },
 "nbformat": 4,
 "nbformat_minor": 5
}
