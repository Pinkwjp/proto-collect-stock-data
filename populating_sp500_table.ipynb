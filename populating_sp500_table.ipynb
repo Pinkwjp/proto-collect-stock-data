{
 "cells": [
  {
   "cell_type": "code",
   "execution_count": 5,
   "id": "df547e4d",
   "metadata": {},
   "outputs": [
    {
     "name": "stdout",
     "output_type": "stream",
     "text": [
      "there are 0 rows in table sp500.\n"
     ]
    }
   ],
   "source": [
    "from sqlalchemy.orm import Session\n",
    "\n",
    "from src.utils import get_db_engine\n",
    "from create_tables import SP500\n",
    "\n",
    "\n",
    "engine = get_db_engine()\n",
    "session = Session(engine)\n",
    "\n",
    "count = session.query(SP500).count()\n",
    "print(f'there are {count} rows in table sp500.')\n"
   ]
  },
  {
   "cell_type": "markdown",
   "id": "0cc77de6",
   "metadata": {},
   "source": [
    "**check the column info**"
   ]
  },
  {
   "cell_type": "code",
   "execution_count": 8,
   "id": "76a9e02b",
   "metadata": {},
   "outputs": [
    {
     "name": "stdout",
     "output_type": "stream",
     "text": [
      "Column: id, Type: INTEGER, Nullable: False\n",
      "Column: ticker, Type: VARCHAR(10), Nullable: False\n",
      "Column: company_name, Type: VARCHAR(50), Nullable: False\n",
      "Column: sector, Type: VARCHAR(100), Nullable: False\n",
      "Column: sub_industry, Type: VARCHAR(100), Nullable: False\n",
      "Column: headquarters, Type: VARCHAR(50), Nullable: False\n",
      "Column: date_added, Type: DATE, Nullable: False\n",
      "Column: cik, Type: INTEGER, Nullable: False\n",
      "Column: year_founded, Type: INTEGER, Nullable: False\n"
     ]
    }
   ],
   "source": [
    "for column in SP500.__table__.columns:\n",
    "    print(f'Column: {column.name}, Type: {column.type}, Nullable: {column.nullable}')"
   ]
  },
  {
   "cell_type": "code",
   "execution_count": 40,
   "id": "8edabb1d",
   "metadata": {},
   "outputs": [
    {
     "data": {
      "text/html": [
       "<div>\n",
       "<style scoped>\n",
       "    .dataframe tbody tr th:only-of-type {\n",
       "        vertical-align: middle;\n",
       "    }\n",
       "\n",
       "    .dataframe tbody tr th {\n",
       "        vertical-align: top;\n",
       "    }\n",
       "\n",
       "    .dataframe thead th {\n",
       "        text-align: right;\n",
       "    }\n",
       "</style>\n",
       "<table border=\"1\" class=\"dataframe\">\n",
       "  <thead>\n",
       "    <tr style=\"text-align: right;\">\n",
       "      <th></th>\n",
       "      <th>Symbol</th>\n",
       "      <th>Security</th>\n",
       "      <th>GICS Sector</th>\n",
       "      <th>GICS Sub-Industry</th>\n",
       "      <th>Headquarters Location</th>\n",
       "      <th>Date added</th>\n",
       "      <th>CIK</th>\n",
       "      <th>Founded</th>\n",
       "    </tr>\n",
       "  </thead>\n",
       "  <tbody>\n",
       "    <tr>\n",
       "      <th>0</th>\n",
       "      <td>MMM</td>\n",
       "      <td>3M</td>\n",
       "      <td>Industrials</td>\n",
       "      <td>Industrial Conglomerates</td>\n",
       "      <td>Saint Paul, Minnesota</td>\n",
       "      <td>1957-03-04</td>\n",
       "      <td>66740</td>\n",
       "      <td>1902</td>\n",
       "    </tr>\n",
       "    <tr>\n",
       "      <th>1</th>\n",
       "      <td>AOS</td>\n",
       "      <td>A. O. Smith</td>\n",
       "      <td>Industrials</td>\n",
       "      <td>Building Products</td>\n",
       "      <td>Milwaukee, Wisconsin</td>\n",
       "      <td>2017-07-26</td>\n",
       "      <td>91142</td>\n",
       "      <td>1916</td>\n",
       "    </tr>\n",
       "    <tr>\n",
       "      <th>2</th>\n",
       "      <td>ABT</td>\n",
       "      <td>Abbott Laboratories</td>\n",
       "      <td>Health Care</td>\n",
       "      <td>Health Care Equipment</td>\n",
       "      <td>North Chicago, Illinois</td>\n",
       "      <td>1957-03-04</td>\n",
       "      <td>1800</td>\n",
       "      <td>1888</td>\n",
       "    </tr>\n",
       "    <tr>\n",
       "      <th>3</th>\n",
       "      <td>ABBV</td>\n",
       "      <td>AbbVie</td>\n",
       "      <td>Health Care</td>\n",
       "      <td>Biotechnology</td>\n",
       "      <td>North Chicago, Illinois</td>\n",
       "      <td>2012-12-31</td>\n",
       "      <td>1551152</td>\n",
       "      <td>2013 (1888)</td>\n",
       "    </tr>\n",
       "    <tr>\n",
       "      <th>4</th>\n",
       "      <td>ACN</td>\n",
       "      <td>Accenture</td>\n",
       "      <td>Information Technology</td>\n",
       "      <td>IT Consulting &amp; Other Services</td>\n",
       "      <td>Dublin, Ireland</td>\n",
       "      <td>2011-07-06</td>\n",
       "      <td>1467373</td>\n",
       "      <td>1989</td>\n",
       "    </tr>\n",
       "  </tbody>\n",
       "</table>\n",
       "</div>"
      ],
      "text/plain": [
       "  Symbol             Security             GICS Sector  \\\n",
       "0    MMM                   3M             Industrials   \n",
       "1    AOS          A. O. Smith             Industrials   \n",
       "2    ABT  Abbott Laboratories             Health Care   \n",
       "3   ABBV               AbbVie             Health Care   \n",
       "4    ACN            Accenture  Information Technology   \n",
       "\n",
       "                GICS Sub-Industry    Headquarters Location  Date added  \\\n",
       "0        Industrial Conglomerates    Saint Paul, Minnesota  1957-03-04   \n",
       "1               Building Products     Milwaukee, Wisconsin  2017-07-26   \n",
       "2           Health Care Equipment  North Chicago, Illinois  1957-03-04   \n",
       "3                   Biotechnology  North Chicago, Illinois  2012-12-31   \n",
       "4  IT Consulting & Other Services          Dublin, Ireland  2011-07-06   \n",
       "\n",
       "       CIK      Founded  \n",
       "0    66740         1902  \n",
       "1    91142         1916  \n",
       "2     1800         1888  \n",
       "3  1551152  2013 (1888)  \n",
       "4  1467373         1989  "
      ]
     },
     "execution_count": 40,
     "metadata": {},
     "output_type": "execute_result"
    }
   ],
   "source": [
    "from pathlib import Path\n",
    "\n",
    "import pandas as pd\n",
    "\n",
    "\n",
    "file_path = Path('./index/sp500.csv')\n",
    "assert file_path.exists()\n",
    "\n",
    "sp500_raw = pd.read_csv(file_path)\n",
    "sp500_raw.head()"
   ]
  },
  {
   "cell_type": "code",
   "execution_count": 41,
   "id": "231f8c95",
   "metadata": {},
   "outputs": [
    {
     "data": {
      "text/plain": [
       "Index(['Symbol', 'Security', 'GICS Sector', 'GICS Sub-Industry',\n",
       "       'Headquarters Location', 'Date added', 'CIK', 'Founded'],\n",
       "      dtype='object')"
      ]
     },
     "execution_count": 41,
     "metadata": {},
     "output_type": "execute_result"
    }
   ],
   "source": [
    "sp500_raw.columns"
   ]
  },
  {
   "cell_type": "code",
   "execution_count": 42,
   "id": "de2f5ff7",
   "metadata": {},
   "outputs": [],
   "source": [
    "sp500 = sp500_raw.copy()"
   ]
  },
  {
   "cell_type": "markdown",
   "id": "2da0823a",
   "metadata": {},
   "source": [
    "**clean up data**"
   ]
  },
  {
   "cell_type": "code",
   "execution_count": 43,
   "id": "fb91c211",
   "metadata": {},
   "outputs": [],
   "source": [
    "assert (sp500['Symbol'].str.len() < 10).all()"
   ]
  },
  {
   "cell_type": "code",
   "execution_count": 44,
   "id": "79f564d0",
   "metadata": {},
   "outputs": [],
   "source": [
    "assert (sp500['Security'].str.len() < 50).all()"
   ]
  },
  {
   "cell_type": "code",
   "execution_count": 45,
   "id": "436ed836",
   "metadata": {},
   "outputs": [],
   "source": [
    "assert (sp500['GICS Sector'].str.len() < 100).all()"
   ]
  },
  {
   "cell_type": "code",
   "execution_count": 46,
   "id": "df293121",
   "metadata": {},
   "outputs": [],
   "source": [
    "assert (sp500['GICS Sub-Industry'].str.len() < 100).all()"
   ]
  },
  {
   "cell_type": "code",
   "execution_count": 47,
   "id": "23d862f5",
   "metadata": {},
   "outputs": [],
   "source": [
    "assert (sp500['Headquarters Location'].str.len() < 50).all()"
   ]
  },
  {
   "cell_type": "code",
   "execution_count": 48,
   "id": "40225f3d",
   "metadata": {},
   "outputs": [],
   "source": [
    "assert (sp500['CIK'].all())"
   ]
  },
  {
   "cell_type": "code",
   "execution_count": 49,
   "id": "375e613a",
   "metadata": {},
   "outputs": [],
   "source": [
    "assert sp500['CIK'].astype(int).equals(sp500['CIK'].apply(int))"
   ]
  },
  {
   "cell_type": "code",
   "execution_count": 50,
   "id": "008cc9b6",
   "metadata": {},
   "outputs": [],
   "source": [
    "assert sp500['Founded'].all()\n",
    "assert not (sp500['Founded'].str.len() == 4).all()"
   ]
  },
  {
   "cell_type": "code",
   "execution_count": 53,
   "id": "fd0a085c",
   "metadata": {},
   "outputs": [
    {
     "data": {
      "text/html": [
       "<div>\n",
       "<style scoped>\n",
       "    .dataframe tbody tr th:only-of-type {\n",
       "        vertical-align: middle;\n",
       "    }\n",
       "\n",
       "    .dataframe tbody tr th {\n",
       "        vertical-align: top;\n",
       "    }\n",
       "\n",
       "    .dataframe thead th {\n",
       "        text-align: right;\n",
       "    }\n",
       "</style>\n",
       "<table border=\"1\" class=\"dataframe\">\n",
       "  <thead>\n",
       "    <tr style=\"text-align: right;\">\n",
       "      <th></th>\n",
       "      <th>Symbol</th>\n",
       "      <th>Security</th>\n",
       "      <th>GICS Sector</th>\n",
       "      <th>GICS Sub-Industry</th>\n",
       "      <th>Headquarters Location</th>\n",
       "      <th>Date added</th>\n",
       "      <th>CIK</th>\n",
       "      <th>Founded</th>\n",
       "    </tr>\n",
       "  </thead>\n",
       "  <tbody>\n",
       "    <tr>\n",
       "      <th>3</th>\n",
       "      <td>ABBV</td>\n",
       "      <td>AbbVie</td>\n",
       "      <td>Health Care</td>\n",
       "      <td>Biotechnology</td>\n",
       "      <td>North Chicago, Illinois</td>\n",
       "      <td>2012-12-31</td>\n",
       "      <td>1551152</td>\n",
       "      <td>2013 (1888)</td>\n",
       "    </tr>\n",
       "    <tr>\n",
       "      <th>23</th>\n",
       "      <td>AMCR</td>\n",
       "      <td>Amcor</td>\n",
       "      <td>Materials</td>\n",
       "      <td>Paper &amp; Plastic Packaging Products &amp; Materials</td>\n",
       "      <td>Warmley, Bristol, United Kingdom</td>\n",
       "      <td>2019-06-07</td>\n",
       "      <td>1748790</td>\n",
       "      <td>2019 (1860)</td>\n",
       "    </tr>\n",
       "    <tr>\n",
       "      <th>36</th>\n",
       "      <td>AON</td>\n",
       "      <td>Aon plc</td>\n",
       "      <td>Financials</td>\n",
       "      <td>Insurance Brokers</td>\n",
       "      <td>London, United Kingdom</td>\n",
       "      <td>1996-04-23</td>\n",
       "      <td>315293</td>\n",
       "      <td>1982 (1919)</td>\n",
       "    </tr>\n",
       "    <tr>\n",
       "      <th>47</th>\n",
       "      <td>T</td>\n",
       "      <td>AT&amp;T</td>\n",
       "      <td>Communication Services</td>\n",
       "      <td>Integrated Telecommunication Services</td>\n",
       "      <td>Dallas, Texas</td>\n",
       "      <td>1983-11-30</td>\n",
       "      <td>732717</td>\n",
       "      <td>1983 (1885)</td>\n",
       "    </tr>\n",
       "    <tr>\n",
       "      <th>57</th>\n",
       "      <td>BAC</td>\n",
       "      <td>Bank of America</td>\n",
       "      <td>Financials</td>\n",
       "      <td>Diversified Banks</td>\n",
       "      <td>Charlotte, North Carolina</td>\n",
       "      <td>1976-06-30</td>\n",
       "      <td>70858</td>\n",
       "      <td>1998 (1923 / 1874)</td>\n",
       "    </tr>\n",
       "  </tbody>\n",
       "</table>\n",
       "</div>"
      ],
      "text/plain": [
       "   Symbol         Security             GICS Sector  \\\n",
       "3    ABBV           AbbVie             Health Care   \n",
       "23   AMCR            Amcor               Materials   \n",
       "36    AON          Aon plc              Financials   \n",
       "47      T             AT&T  Communication Services   \n",
       "57    BAC  Bank of America              Financials   \n",
       "\n",
       "                                 GICS Sub-Industry  \\\n",
       "3                                    Biotechnology   \n",
       "23  Paper & Plastic Packaging Products & Materials   \n",
       "36                               Insurance Brokers   \n",
       "47           Integrated Telecommunication Services   \n",
       "57                               Diversified Banks   \n",
       "\n",
       "               Headquarters Location  Date added      CIK             Founded  \n",
       "3            North Chicago, Illinois  2012-12-31  1551152         2013 (1888)  \n",
       "23  Warmley, Bristol, United Kingdom  2019-06-07  1748790         2019 (1860)  \n",
       "36            London, United Kingdom  1996-04-23   315293         1982 (1919)  \n",
       "47                     Dallas, Texas  1983-11-30   732717         1983 (1885)  \n",
       "57         Charlotte, North Carolina  1976-06-30    70858  1998 (1923 / 1874)  "
      ]
     },
     "execution_count": 53,
     "metadata": {},
     "output_type": "execute_result"
    }
   ],
   "source": [
    "df_multi_year = sp500[sp500['Founded'].str.len() > 4]\n",
    "df_multi_year.head()"
   ]
  },
  {
   "cell_type": "code",
   "execution_count": 54,
   "id": "ce769164",
   "metadata": {},
   "outputs": [
    {
     "name": "stdout",
     "output_type": "stream",
     "text": [
      "there are 42 companies multiple founded years.\n"
     ]
    }
   ],
   "source": [
    "print(f'there are {df_multi_year.shape[0]} companies multiple founded years.')"
   ]
  },
  {
   "cell_type": "markdown",
   "id": "534946f6",
   "metadata": {},
   "source": [
    "to simplify things, just use the most recent founded year"
   ]
  },
  {
   "cell_type": "code",
   "execution_count": null,
   "id": "cad6ecce",
   "metadata": {},
   "outputs": [],
   "source": [
    "df_special_char_years = sp500[sp500['Founded'].str.contains()]"
   ]
  },
  {
   "cell_type": "code",
   "execution_count": 65,
   "id": "15927a19",
   "metadata": {},
   "outputs": [],
   "source": [
    "import re\n",
    "\n",
    "def parse_recent_founded_year(year_string: str) -> int:\n",
    "    years = re.findall(r'\\d{4}', year_string)\n",
    "    return max([int(year) for year in years]) \n",
    "\n",
    "\n",
    "assert parse_recent_founded_year('1998 (1923 / 1874)') == 1998\n",
    "assert parse_recent_founded_year('1998,1920(1923/1874)') == 1998"
   ]
  },
  {
   "cell_type": "code",
   "execution_count": 63,
   "id": "8a2e7b0c",
   "metadata": {},
   "outputs": [],
   "source": [
    "sp500['Founded'] = sp500['Founded'].apply(parse_recent_founded_year)"
   ]
  },
  {
   "cell_type": "code",
   "execution_count": 67,
   "id": "1638b208",
   "metadata": {},
   "outputs": [],
   "source": [
    "assert (sp500['Founded'] > 1700).all()\n",
    "assert (sp500['Founded'] < 2025).all()"
   ]
  },
  {
   "cell_type": "code",
   "execution_count": 69,
   "id": "9c5b16bb",
   "metadata": {},
   "outputs": [
    {
     "data": {
      "text/plain": [
       "Symbol                                                 BK\n",
       "Security                                       BNY Mellon\n",
       "GICS Sector                                    Financials\n",
       "GICS Sub-Industry        Asset Management & Custody Banks\n",
       "Headquarters Location             New York City, New York\n",
       "Date added                                     1995-03-31\n",
       "CIK                                               1390777\n",
       "Founded                                              1784\n",
       "Name: 66, dtype: object"
      ]
     },
     "execution_count": 69,
     "metadata": {},
     "output_type": "execute_result"
    }
   ],
   "source": [
    "sp500.iloc[sp500['Founded'].argmin()]"
   ]
  },
  {
   "cell_type": "code",
   "execution_count": 70,
   "id": "313fa36f",
   "metadata": {},
   "outputs": [
    {
     "data": {
      "text/plain": [
       "count     503.000000\n",
       "mean     1956.920477\n",
       "std        48.723728\n",
       "min      1784.000000\n",
       "25%      1923.000000\n",
       "50%      1971.000000\n",
       "75%      1994.000000\n",
       "max      2024.000000\n",
       "Name: Founded, dtype: float64"
      ]
     },
     "execution_count": 70,
     "metadata": {},
     "output_type": "execute_result"
    }
   ],
   "source": [
    "sp500['Founded'].describe()"
   ]
  },
  {
   "cell_type": "code",
   "execution_count": 72,
   "id": "b6ae982e",
   "metadata": {},
   "outputs": [
    {
     "data": {
      "text/html": [
       "<div>\n",
       "<style scoped>\n",
       "    .dataframe tbody tr th:only-of-type {\n",
       "        vertical-align: middle;\n",
       "    }\n",
       "\n",
       "    .dataframe tbody tr th {\n",
       "        vertical-align: top;\n",
       "    }\n",
       "\n",
       "    .dataframe thead th {\n",
       "        text-align: right;\n",
       "    }\n",
       "</style>\n",
       "<table border=\"1\" class=\"dataframe\">\n",
       "  <thead>\n",
       "    <tr style=\"text-align: right;\">\n",
       "      <th></th>\n",
       "      <th>Symbol</th>\n",
       "      <th>Security</th>\n",
       "      <th>GICS Sector</th>\n",
       "      <th>GICS Sub-Industry</th>\n",
       "      <th>Headquarters Location</th>\n",
       "      <th>Date added</th>\n",
       "      <th>CIK</th>\n",
       "      <th>Founded</th>\n",
       "    </tr>\n",
       "  </thead>\n",
       "  <tbody>\n",
       "    <tr>\n",
       "      <th>66</th>\n",
       "      <td>BK</td>\n",
       "      <td>BNY Mellon</td>\n",
       "      <td>Financials</td>\n",
       "      <td>Asset Management &amp; Custody Banks</td>\n",
       "      <td>New York City, New York</td>\n",
       "      <td>1995-03-31</td>\n",
       "      <td>1390777</td>\n",
       "      <td>1784</td>\n",
       "    </tr>\n",
       "    <tr>\n",
       "      <th>423</th>\n",
       "      <td>STT</td>\n",
       "      <td>State Street Corporation</td>\n",
       "      <td>Financials</td>\n",
       "      <td>Asset Management &amp; Custody Banks</td>\n",
       "      <td>Boston, Massachusetts</td>\n",
       "      <td>2003-03-14</td>\n",
       "      <td>93751</td>\n",
       "      <td>1792</td>\n",
       "    </tr>\n",
       "    <tr>\n",
       "      <th>114</th>\n",
       "      <td>CL</td>\n",
       "      <td>Colgate-Palmolive</td>\n",
       "      <td>Consumer Staples</td>\n",
       "      <td>Household Products</td>\n",
       "      <td>New York City, New York</td>\n",
       "      <td>1957-03-04</td>\n",
       "      <td>21665</td>\n",
       "      <td>1806</td>\n",
       "    </tr>\n",
       "    <tr>\n",
       "      <th>222</th>\n",
       "      <td>HIG</td>\n",
       "      <td>Hartford (The)</td>\n",
       "      <td>Financials</td>\n",
       "      <td>Property &amp; Casualty Insurance</td>\n",
       "      <td>Hartford, Connecticut</td>\n",
       "      <td>1957-03-04</td>\n",
       "      <td>874766</td>\n",
       "      <td>1810</td>\n",
       "    </tr>\n",
       "    <tr>\n",
       "      <th>76</th>\n",
       "      <td>BG</td>\n",
       "      <td>Bunge Global</td>\n",
       "      <td>Consumer Staples</td>\n",
       "      <td>Agricultural Products &amp; Services</td>\n",
       "      <td>Chesterfield, Missouri</td>\n",
       "      <td>2023-03-15</td>\n",
       "      <td>1996862</td>\n",
       "      <td>1818</td>\n",
       "    </tr>\n",
       "  </tbody>\n",
       "</table>\n",
       "</div>"
      ],
      "text/plain": [
       "    Symbol                  Security       GICS Sector  \\\n",
       "66      BK                BNY Mellon        Financials   \n",
       "423    STT  State Street Corporation        Financials   \n",
       "114     CL         Colgate-Palmolive  Consumer Staples   \n",
       "222    HIG            Hartford (The)        Financials   \n",
       "76      BG              Bunge Global  Consumer Staples   \n",
       "\n",
       "                    GICS Sub-Industry    Headquarters Location  Date added  \\\n",
       "66   Asset Management & Custody Banks  New York City, New York  1995-03-31   \n",
       "423  Asset Management & Custody Banks    Boston, Massachusetts  2003-03-14   \n",
       "114                Household Products  New York City, New York  1957-03-04   \n",
       "222     Property & Casualty Insurance    Hartford, Connecticut  1957-03-04   \n",
       "76   Agricultural Products & Services   Chesterfield, Missouri  2023-03-15   \n",
       "\n",
       "         CIK  Founded  \n",
       "66   1390777     1784  \n",
       "423    93751     1792  \n",
       "114    21665     1806  \n",
       "222   874766     1810  \n",
       "76   1996862     1818  "
      ]
     },
     "execution_count": 72,
     "metadata": {},
     "output_type": "execute_result"
    }
   ],
   "source": [
    "sp500.sort_values(by='Founded', ascending=True).head()"
   ]
  },
  {
   "cell_type": "code",
   "execution_count": 74,
   "id": "2ed60737",
   "metadata": {},
   "outputs": [
    {
     "data": {
      "text/html": [
       "<div>\n",
       "<style scoped>\n",
       "    .dataframe tbody tr th:only-of-type {\n",
       "        vertical-align: middle;\n",
       "    }\n",
       "\n",
       "    .dataframe tbody tr th {\n",
       "        vertical-align: top;\n",
       "    }\n",
       "\n",
       "    .dataframe thead th {\n",
       "        text-align: right;\n",
       "    }\n",
       "</style>\n",
       "<table border=\"1\" class=\"dataframe\">\n",
       "  <thead>\n",
       "    <tr style=\"text-align: right;\">\n",
       "      <th></th>\n",
       "      <th>Symbol</th>\n",
       "      <th>Security</th>\n",
       "      <th>GICS Sector</th>\n",
       "      <th>GICS Sub-Industry</th>\n",
       "      <th>Headquarters Location</th>\n",
       "      <th>Date added</th>\n",
       "      <th>CIK</th>\n",
       "      <th>Founded</th>\n",
       "    </tr>\n",
       "  </thead>\n",
       "  <tbody>\n",
       "    <tr>\n",
       "      <th>209</th>\n",
       "      <td>GEV</td>\n",
       "      <td>GE Vernova</td>\n",
       "      <td>Industrials</td>\n",
       "      <td>Heavy Electrical Equipment</td>\n",
       "      <td>Cambridge, Massachusetts</td>\n",
       "      <td>2024-04-02</td>\n",
       "      <td>1996810</td>\n",
       "      <td>2024</td>\n",
       "    </tr>\n",
       "    <tr>\n",
       "      <th>418</th>\n",
       "      <td>SOLV</td>\n",
       "      <td>Solventum</td>\n",
       "      <td>Health Care</td>\n",
       "      <td>Health Care Technology</td>\n",
       "      <td>Saint Paul, Minnesota</td>\n",
       "      <td>2024-04-01</td>\n",
       "      <td>1964738</td>\n",
       "      <td>2023</td>\n",
       "    </tr>\n",
       "    <tr>\n",
       "      <th>446</th>\n",
       "      <td>TKO</td>\n",
       "      <td>TKO Group Holdings</td>\n",
       "      <td>Communication Services</td>\n",
       "      <td>Movies &amp; Entertainment</td>\n",
       "      <td>New York City, New York</td>\n",
       "      <td>2025-03-24</td>\n",
       "      <td>1973266</td>\n",
       "      <td>2023</td>\n",
       "    </tr>\n",
       "    <tr>\n",
       "      <th>467</th>\n",
       "      <td>VLTO</td>\n",
       "      <td>Veralto</td>\n",
       "      <td>Industrials</td>\n",
       "      <td>Environmental &amp; Facilities Services</td>\n",
       "      <td>Waltham, Massachusetts</td>\n",
       "      <td>2023-10-02</td>\n",
       "      <td>1967680</td>\n",
       "      <td>2023</td>\n",
       "    </tr>\n",
       "    <tr>\n",
       "      <th>483</th>\n",
       "      <td>WBD</td>\n",
       "      <td>Warner Bros. Discovery</td>\n",
       "      <td>Communication Services</td>\n",
       "      <td>Broadcasting</td>\n",
       "      <td>New York City, New York</td>\n",
       "      <td>2022-04-11</td>\n",
       "      <td>1437107</td>\n",
       "      <td>2022</td>\n",
       "    </tr>\n",
       "  </tbody>\n",
       "</table>\n",
       "</div>"
      ],
      "text/plain": [
       "    Symbol                Security             GICS Sector  \\\n",
       "209    GEV              GE Vernova             Industrials   \n",
       "418   SOLV               Solventum             Health Care   \n",
       "446    TKO      TKO Group Holdings  Communication Services   \n",
       "467   VLTO                 Veralto             Industrials   \n",
       "483    WBD  Warner Bros. Discovery  Communication Services   \n",
       "\n",
       "                       GICS Sub-Industry     Headquarters Location  \\\n",
       "209           Heavy Electrical Equipment  Cambridge, Massachusetts   \n",
       "418               Health Care Technology     Saint Paul, Minnesota   \n",
       "446               Movies & Entertainment   New York City, New York   \n",
       "467  Environmental & Facilities Services    Waltham, Massachusetts   \n",
       "483                         Broadcasting   New York City, New York   \n",
       "\n",
       "     Date added      CIK  Founded  \n",
       "209  2024-04-02  1996810     2024  \n",
       "418  2024-04-01  1964738     2023  \n",
       "446  2025-03-24  1973266     2023  \n",
       "467  2023-10-02  1967680     2023  \n",
       "483  2022-04-11  1437107     2022  "
      ]
     },
     "execution_count": 74,
     "metadata": {},
     "output_type": "execute_result"
    }
   ],
   "source": [
    "sp500.sort_values(by='Founded', ascending=False).head()"
   ]
  }
 ],
 "metadata": {
  "kernelspec": {
   "display_name": "proto-collect-stock-data-TaHiO2kv",
   "language": "python",
   "name": "python3"
  },
  "language_info": {
   "codemirror_mode": {
    "name": "ipython",
    "version": 3
   },
   "file_extension": ".py",
   "mimetype": "text/x-python",
   "name": "python",
   "nbconvert_exporter": "python",
   "pygments_lexer": "ipython3",
   "version": "3.13.3"
  }
 },
 "nbformat": 4,
 "nbformat_minor": 5
}
