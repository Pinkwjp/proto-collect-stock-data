{
 "cells": [
  {
   "cell_type": "code",
   "execution_count": 1,
   "id": "38d19a55",
   "metadata": {},
   "outputs": [],
   "source": [
    "from src.utils import get_db_engine\n",
    "\n",
    "engine = get_db_engine()"
   ]
  },
  {
   "cell_type": "code",
   "execution_count": 2,
   "id": "9e8ed944",
   "metadata": {},
   "outputs": [],
   "source": [
    "from src.utils import get_latest_record_date, get_db_engine\n",
    "\n",
    "latest_date = get_latest_record_date(engine=engine)"
   ]
  },
  {
   "cell_type": "code",
   "execution_count": 3,
   "id": "03b11f8b",
   "metadata": {},
   "outputs": [
    {
     "data": {
      "text/html": [
       "<div>\n",
       "<style scoped>\n",
       "    .dataframe tbody tr th:only-of-type {\n",
       "        vertical-align: middle;\n",
       "    }\n",
       "\n",
       "    .dataframe tbody tr th {\n",
       "        vertical-align: top;\n",
       "    }\n",
       "\n",
       "    .dataframe thead th {\n",
       "        text-align: right;\n",
       "    }\n",
       "</style>\n",
       "<table border=\"1\" class=\"dataframe\">\n",
       "  <thead>\n",
       "    <tr style=\"text-align: right;\">\n",
       "      <th></th>\n",
       "      <th>ticker</th>\n",
       "      <th>latest_record_date</th>\n",
       "    </tr>\n",
       "  </thead>\n",
       "  <tbody>\n",
       "    <tr>\n",
       "      <th>0</th>\n",
       "      <td>A</td>\n",
       "      <td>2025-05-08</td>\n",
       "    </tr>\n",
       "    <tr>\n",
       "      <th>1</th>\n",
       "      <td>AA</td>\n",
       "      <td>2025-05-08</td>\n",
       "    </tr>\n",
       "    <tr>\n",
       "      <th>2</th>\n",
       "      <td>AAL</td>\n",
       "      <td>2025-05-08</td>\n",
       "    </tr>\n",
       "    <tr>\n",
       "      <th>3</th>\n",
       "      <td>AAON</td>\n",
       "      <td>2025-05-08</td>\n",
       "    </tr>\n",
       "    <tr>\n",
       "      <th>4</th>\n",
       "      <td>AAP</td>\n",
       "      <td>2025-05-08</td>\n",
       "    </tr>\n",
       "  </tbody>\n",
       "</table>\n",
       "</div>"
      ],
      "text/plain": [
       "  ticker latest_record_date\n",
       "0      A         2025-05-08\n",
       "1     AA         2025-05-08\n",
       "2    AAL         2025-05-08\n",
       "3   AAON         2025-05-08\n",
       "4    AAP         2025-05-08"
      ]
     },
     "execution_count": 3,
     "metadata": {},
     "output_type": "execute_result"
    }
   ],
   "source": [
    "latest_date.head()"
   ]
  },
  {
   "cell_type": "code",
   "execution_count": 4,
   "id": "96d1a0f9",
   "metadata": {},
   "outputs": [
    {
     "data": {
      "text/html": [
       "<div>\n",
       "<style scoped>\n",
       "    .dataframe tbody tr th:only-of-type {\n",
       "        vertical-align: middle;\n",
       "    }\n",
       "\n",
       "    .dataframe tbody tr th {\n",
       "        vertical-align: top;\n",
       "    }\n",
       "\n",
       "    .dataframe thead th {\n",
       "        text-align: right;\n",
       "    }\n",
       "</style>\n",
       "<table border=\"1\" class=\"dataframe\">\n",
       "  <thead>\n",
       "    <tr style=\"text-align: right;\">\n",
       "      <th></th>\n",
       "      <th>ticker</th>\n",
       "      <th>latest_record_date</th>\n",
       "    </tr>\n",
       "  </thead>\n",
       "  <tbody>\n",
       "    <tr>\n",
       "      <th>1493</th>\n",
       "      <td>ZD</td>\n",
       "      <td>2025-05-08</td>\n",
       "    </tr>\n",
       "    <tr>\n",
       "      <th>1494</th>\n",
       "      <td>ZI</td>\n",
       "      <td>2025-05-08</td>\n",
       "    </tr>\n",
       "    <tr>\n",
       "      <th>1495</th>\n",
       "      <td>ZION</td>\n",
       "      <td>2025-05-08</td>\n",
       "    </tr>\n",
       "    <tr>\n",
       "      <th>1496</th>\n",
       "      <td>ZTS</td>\n",
       "      <td>2025-05-08</td>\n",
       "    </tr>\n",
       "    <tr>\n",
       "      <th>1497</th>\n",
       "      <td>ZWS</td>\n",
       "      <td>2025-05-08</td>\n",
       "    </tr>\n",
       "  </tbody>\n",
       "</table>\n",
       "</div>"
      ],
      "text/plain": [
       "     ticker latest_record_date\n",
       "1493     ZD         2025-05-08\n",
       "1494     ZI         2025-05-08\n",
       "1495   ZION         2025-05-08\n",
       "1496    ZTS         2025-05-08\n",
       "1497    ZWS         2025-05-08"
      ]
     },
     "execution_count": 4,
     "metadata": {},
     "output_type": "execute_result"
    }
   ],
   "source": [
    "latest_date.tail()"
   ]
  },
  {
   "cell_type": "markdown",
   "id": "7b281d1c",
   "metadata": {},
   "source": [
    "check if all stock records are up to the same date"
   ]
  },
  {
   "cell_type": "code",
   "execution_count": 5,
   "id": "c4db9293",
   "metadata": {},
   "outputs": [],
   "source": [
    "assert (latest_date['latest_record_date'] == latest_date['latest_record_date'].max()).all()"
   ]
  },
  {
   "cell_type": "code",
   "execution_count": null,
   "id": "f6a0d40e",
   "metadata": {},
   "outputs": [],
   "source": [
    "from sqlalchemy import select\n",
    "from sqlalchemy.orm import Session\n",
    "\n",
    "import pandas as pd \n",
    "\n",
    "from src.create_sql_tables import StockPrice\n",
    "\n",
    "\n",
    "stmt = select(StockPrice.ticker.distinct().label('ticker'))\n",
    "\n",
    "with Session(bind=engine) as session:\n",
    "    result = session.execute(stmt)\n",
    "    tickers = pd.DataFrame(result.fetchall(), columns=list(result.keys())).squeeze()"
   ]
  },
  {
   "cell_type": "code",
   "execution_count": 22,
   "id": "21a49684",
   "metadata": {},
   "outputs": [
    {
     "data": {
      "text/plain": [
       "pandas.core.series.Series"
      ]
     },
     "execution_count": 22,
     "metadata": {},
     "output_type": "execute_result"
    }
   ],
   "source": [
    "type(tickers)"
   ]
  },
  {
   "cell_type": "code",
   "execution_count": null,
   "id": "79056e73",
   "metadata": {},
   "outputs": [],
   "source": [
    "all_tickers = tickers.to_list() # type:ignore"
   ]
  },
  {
   "cell_type": "code",
   "execution_count": 25,
   "id": "64f0f47a",
   "metadata": {},
   "outputs": [
    {
     "name": "stdout",
     "output_type": "stream",
     "text": [
      "there are 1498 tickers\n"
     ]
    }
   ],
   "source": [
    "print(f'there are {len(all_tickers)} tickers')"
   ]
  },
  {
   "cell_type": "markdown",
   "id": "ae400333",
   "metadata": {},
   "source": [
    "let's do the fetching in 3 batch of around 500 tickers per batch."
   ]
  },
  {
   "cell_type": "code",
   "execution_count": 26,
   "id": "65c9133f",
   "metadata": {},
   "outputs": [],
   "source": [
    "tickers_1 = all_tickers[:500]\n",
    "tickers_2 = all_tickers[500:1000]\n",
    "tickers_3 = all_tickers[1000:]\n",
    "\n",
    "assert len(tickers_1) + len(tickers_2) + len(tickers_3) == len(all_tickers)"
   ]
  },
  {
   "cell_type": "code",
   "execution_count": 31,
   "id": "5989b574",
   "metadata": {},
   "outputs": [
    {
     "data": {
      "text/plain": [
       "datetime.date(2025, 5, 8)"
      ]
     },
     "execution_count": 31,
     "metadata": {},
     "output_type": "execute_result"
    }
   ],
   "source": [
    "last_record_date = latest_date['latest_record_date'].max()\n",
    "last_record_date"
   ]
  },
  {
   "cell_type": "code",
   "execution_count": 32,
   "id": "7696d2bb",
   "metadata": {},
   "outputs": [
    {
     "data": {
      "text/plain": [
       "'2025-05-08'"
      ]
     },
     "execution_count": 32,
     "metadata": {},
     "output_type": "execute_result"
    }
   ],
   "source": [
    "last_record_date = str(last_record_date)\n",
    "last_record_date"
   ]
  },
  {
   "cell_type": "code",
   "execution_count": 33,
   "id": "888e91f7",
   "metadata": {},
   "outputs": [
    {
     "name": "stdout",
     "output_type": "stream",
     "text": [
      "YF.download() has changed argument auto_adjust default to True\n"
     ]
    },
    {
     "name": "stderr",
     "output_type": "stream",
     "text": [
      "[*********************100%***********************]  500 of 500 completed\n",
      "/home/ping/Code/proto-collect-stock-data/src/utils.py:52: SettingWithCopyWarning: \n",
      "A value is trying to be set on a copy of a slice from a DataFrame.\n",
      "Try using .loc[row_indexer,col_indexer] = value instead\n",
      "\n",
      "See the caveats in the documentation: https://pandas.pydata.org/pandas-docs/stable/user_guide/indexing.html#returning-a-view-versus-a-copy\n",
      "  df['Volume'] = df['Volume'].fillna(0).astype(int)\n"
     ]
    }
   ],
   "source": [
    "from src.utils import download_from\n",
    "\n",
    "df_1 = download_from(symbols=tickers_1, from_date=last_record_date)"
   ]
  },
  {
   "cell_type": "code",
   "execution_count": 34,
   "id": "195af6a9",
   "metadata": {},
   "outputs": [],
   "source": [
    "assert not df_1.isna().values.any()"
   ]
  },
  {
   "cell_type": "code",
   "execution_count": 35,
   "id": "27ec7d09",
   "metadata": {},
   "outputs": [
    {
     "name": "stderr",
     "output_type": "stream",
     "text": [
      "[*********************100%***********************]  500 of 500 completed\n"
     ]
    }
   ],
   "source": [
    "df2 = download_from(symbols=tickers_2, from_date=last_record_date)"
   ]
  },
  {
   "cell_type": "code",
   "execution_count": 36,
   "id": "2d629b93",
   "metadata": {},
   "outputs": [],
   "source": [
    "assert not df2.isna().values.any()"
   ]
  },
  {
   "cell_type": "code",
   "execution_count": 37,
   "id": "e701ec1d",
   "metadata": {},
   "outputs": [
    {
     "name": "stderr",
     "output_type": "stream",
     "text": [
      "[*********************100%***********************]  498 of 498 completed\n"
     ]
    }
   ],
   "source": [
    "df3 = download_from(symbols=tickers_3, from_date=last_record_date)"
   ]
  },
  {
   "cell_type": "code",
   "execution_count": 38,
   "id": "92d9f99e",
   "metadata": {},
   "outputs": [],
   "source": [
    "assert not df3.isna().values.any()"
   ]
  },
  {
   "cell_type": "code",
   "execution_count": 39,
   "id": "e5364f34",
   "metadata": {},
   "outputs": [
    {
     "data": {
      "text/html": [
       "<div>\n",
       "<style scoped>\n",
       "    .dataframe tbody tr th:only-of-type {\n",
       "        vertical-align: middle;\n",
       "    }\n",
       "\n",
       "    .dataframe tbody tr th {\n",
       "        vertical-align: top;\n",
       "    }\n",
       "\n",
       "    .dataframe thead th {\n",
       "        text-align: right;\n",
       "    }\n",
       "</style>\n",
       "<table border=\"1\" class=\"dataframe\">\n",
       "  <thead>\n",
       "    <tr style=\"text-align: right;\">\n",
       "      <th></th>\n",
       "      <th>trade_date</th>\n",
       "      <th>ticker</th>\n",
       "      <th>open_price</th>\n",
       "      <th>high_price</th>\n",
       "      <th>low_price</th>\n",
       "      <th>close_price</th>\n",
       "      <th>volume</th>\n",
       "    </tr>\n",
       "  </thead>\n",
       "  <tbody>\n",
       "    <tr>\n",
       "      <th>0</th>\n",
       "      <td>2025-05-08</td>\n",
       "      <td>ALRM</td>\n",
       "      <td>53.71</td>\n",
       "      <td>55.74</td>\n",
       "      <td>53.53</td>\n",
       "      <td>55.31</td>\n",
       "      <td>542000</td>\n",
       "    </tr>\n",
       "    <tr>\n",
       "      <th>1</th>\n",
       "      <td>2025-05-08</td>\n",
       "      <td>AEIS</td>\n",
       "      <td>111.54</td>\n",
       "      <td>112.62</td>\n",
       "      <td>109.58</td>\n",
       "      <td>110.46</td>\n",
       "      <td>220300</td>\n",
       "    </tr>\n",
       "    <tr>\n",
       "      <th>2</th>\n",
       "      <td>2025-05-08</td>\n",
       "      <td>COHR</td>\n",
       "      <td>72.89</td>\n",
       "      <td>72.89</td>\n",
       "      <td>67.50</td>\n",
       "      <td>70.59</td>\n",
       "      <td>6311200</td>\n",
       "    </tr>\n",
       "    <tr>\n",
       "      <th>3</th>\n",
       "      <td>2025-05-08</td>\n",
       "      <td>CENTA</td>\n",
       "      <td>30.23</td>\n",
       "      <td>30.84</td>\n",
       "      <td>27.97</td>\n",
       "      <td>30.30</td>\n",
       "      <td>501900</td>\n",
       "    </tr>\n",
       "    <tr>\n",
       "      <th>4</th>\n",
       "      <td>2025-05-08</td>\n",
       "      <td>AMPH</td>\n",
       "      <td>24.59</td>\n",
       "      <td>25.36</td>\n",
       "      <td>23.68</td>\n",
       "      <td>24.65</td>\n",
       "      <td>751600</td>\n",
       "    </tr>\n",
       "  </tbody>\n",
       "</table>\n",
       "</div>"
      ],
      "text/plain": [
       "   trade_date ticker  open_price  high_price  low_price  close_price   volume\n",
       "0  2025-05-08   ALRM       53.71       55.74      53.53        55.31   542000\n",
       "1  2025-05-08   AEIS      111.54      112.62     109.58       110.46   220300\n",
       "2  2025-05-08   COHR       72.89       72.89      67.50        70.59  6311200\n",
       "3  2025-05-08  CENTA       30.23       30.84      27.97        30.30   501900\n",
       "4  2025-05-08   AMPH       24.59       25.36      23.68        24.65   751600"
      ]
     },
     "execution_count": 39,
     "metadata": {},
     "output_type": "execute_result"
    }
   ],
   "source": [
    "df_1.head()"
   ]
  },
  {
   "cell_type": "code",
   "execution_count": 42,
   "id": "a4d1d2df",
   "metadata": {},
   "outputs": [
    {
     "data": {
      "text/html": [
       "<div>\n",
       "<style scoped>\n",
       "    .dataframe tbody tr th:only-of-type {\n",
       "        vertical-align: middle;\n",
       "    }\n",
       "\n",
       "    .dataframe tbody tr th {\n",
       "        vertical-align: top;\n",
       "    }\n",
       "\n",
       "    .dataframe thead th {\n",
       "        text-align: right;\n",
       "    }\n",
       "</style>\n",
       "<table border=\"1\" class=\"dataframe\">\n",
       "  <thead>\n",
       "    <tr style=\"text-align: right;\">\n",
       "      <th></th>\n",
       "      <th>trade_date</th>\n",
       "      <th>ticker</th>\n",
       "      <th>open_price</th>\n",
       "      <th>high_price</th>\n",
       "      <th>low_price</th>\n",
       "      <th>close_price</th>\n",
       "      <th>volume</th>\n",
       "    </tr>\n",
       "  </thead>\n",
       "  <tbody>\n",
       "    <tr>\n",
       "      <th>0</th>\n",
       "      <td>2025-05-08</td>\n",
       "      <td>MUSA</td>\n",
       "      <td>489.79</td>\n",
       "      <td>496.30</td>\n",
       "      <td>439.51</td>\n",
       "      <td>443.56</td>\n",
       "      <td>1299900</td>\n",
       "    </tr>\n",
       "    <tr>\n",
       "      <th>1</th>\n",
       "      <td>2025-05-08</td>\n",
       "      <td>NOG</td>\n",
       "      <td>24.97</td>\n",
       "      <td>26.56</td>\n",
       "      <td>24.90</td>\n",
       "      <td>26.30</td>\n",
       "      <td>1881900</td>\n",
       "    </tr>\n",
       "    <tr>\n",
       "      <th>2</th>\n",
       "      <td>2025-05-08</td>\n",
       "      <td>FSLR</td>\n",
       "      <td>130.34</td>\n",
       "      <td>135.30</td>\n",
       "      <td>127.33</td>\n",
       "      <td>133.76</td>\n",
       "      <td>4269100</td>\n",
       "    </tr>\n",
       "    <tr>\n",
       "      <th>3</th>\n",
       "      <td>2025-05-08</td>\n",
       "      <td>LZB</td>\n",
       "      <td>40.85</td>\n",
       "      <td>42.31</td>\n",
       "      <td>40.85</td>\n",
       "      <td>42.27</td>\n",
       "      <td>303700</td>\n",
       "    </tr>\n",
       "    <tr>\n",
       "      <th>4</th>\n",
       "      <td>2025-05-08</td>\n",
       "      <td>JCI</td>\n",
       "      <td>90.81</td>\n",
       "      <td>92.41</td>\n",
       "      <td>90.35</td>\n",
       "      <td>91.24</td>\n",
       "      <td>9040800</td>\n",
       "    </tr>\n",
       "  </tbody>\n",
       "</table>\n",
       "</div>"
      ],
      "text/plain": [
       "   trade_date ticker  open_price  high_price  low_price  close_price   volume\n",
       "0  2025-05-08   MUSA      489.79      496.30     439.51       443.56  1299900\n",
       "1  2025-05-08    NOG       24.97       26.56      24.90        26.30  1881900\n",
       "2  2025-05-08   FSLR      130.34      135.30     127.33       133.76  4269100\n",
       "3  2025-05-08    LZB       40.85       42.31      40.85        42.27   303700\n",
       "4  2025-05-08    JCI       90.81       92.41      90.35        91.24  9040800"
      ]
     },
     "execution_count": 42,
     "metadata": {},
     "output_type": "execute_result"
    }
   ],
   "source": [
    "df2.head()"
   ]
  },
  {
   "cell_type": "code",
   "execution_count": 43,
   "id": "f5465f50",
   "metadata": {},
   "outputs": [
    {
     "data": {
      "text/html": [
       "<div>\n",
       "<style scoped>\n",
       "    .dataframe tbody tr th:only-of-type {\n",
       "        vertical-align: middle;\n",
       "    }\n",
       "\n",
       "    .dataframe tbody tr th {\n",
       "        vertical-align: top;\n",
       "    }\n",
       "\n",
       "    .dataframe thead th {\n",
       "        text-align: right;\n",
       "    }\n",
       "</style>\n",
       "<table border=\"1\" class=\"dataframe\">\n",
       "  <thead>\n",
       "    <tr style=\"text-align: right;\">\n",
       "      <th></th>\n",
       "      <th>trade_date</th>\n",
       "      <th>ticker</th>\n",
       "      <th>open_price</th>\n",
       "      <th>high_price</th>\n",
       "      <th>low_price</th>\n",
       "      <th>close_price</th>\n",
       "      <th>volume</th>\n",
       "    </tr>\n",
       "  </thead>\n",
       "  <tbody>\n",
       "    <tr>\n",
       "      <th>0</th>\n",
       "      <td>2025-05-08</td>\n",
       "      <td>TTGT</td>\n",
       "      <td>7.90</td>\n",
       "      <td>8.46</td>\n",
       "      <td>7.80</td>\n",
       "      <td>8.27</td>\n",
       "      <td>280100</td>\n",
       "    </tr>\n",
       "    <tr>\n",
       "      <th>1</th>\n",
       "      <td>2025-05-08</td>\n",
       "      <td>WEC</td>\n",
       "      <td>108.77</td>\n",
       "      <td>108.77</td>\n",
       "      <td>106.62</td>\n",
       "      <td>107.03</td>\n",
       "      <td>2423800</td>\n",
       "    </tr>\n",
       "    <tr>\n",
       "      <th>2</th>\n",
       "      <td>2025-05-08</td>\n",
       "      <td>TXT</td>\n",
       "      <td>70.62</td>\n",
       "      <td>73.07</td>\n",
       "      <td>70.52</td>\n",
       "      <td>72.22</td>\n",
       "      <td>1600800</td>\n",
       "    </tr>\n",
       "    <tr>\n",
       "      <th>3</th>\n",
       "      <td>2025-05-08</td>\n",
       "      <td>YELP</td>\n",
       "      <td>35.83</td>\n",
       "      <td>36.22</td>\n",
       "      <td>35.53</td>\n",
       "      <td>35.74</td>\n",
       "      <td>828200</td>\n",
       "    </tr>\n",
       "    <tr>\n",
       "      <th>4</th>\n",
       "      <td>2025-05-08</td>\n",
       "      <td>VOYA</td>\n",
       "      <td>65.60</td>\n",
       "      <td>66.91</td>\n",
       "      <td>65.01</td>\n",
       "      <td>66.44</td>\n",
       "      <td>845900</td>\n",
       "    </tr>\n",
       "  </tbody>\n",
       "</table>\n",
       "</div>"
      ],
      "text/plain": [
       "   trade_date ticker  open_price  high_price  low_price  close_price   volume\n",
       "0  2025-05-08   TTGT        7.90        8.46       7.80         8.27   280100\n",
       "1  2025-05-08    WEC      108.77      108.77     106.62       107.03  2423800\n",
       "2  2025-05-08    TXT       70.62       73.07      70.52        72.22  1600800\n",
       "3  2025-05-08   YELP       35.83       36.22      35.53        35.74   828200\n",
       "4  2025-05-08   VOYA       65.60       66.91      65.01        66.44   845900"
      ]
     },
     "execution_count": 43,
     "metadata": {},
     "output_type": "execute_result"
    }
   ],
   "source": [
    "df3.head()"
   ]
  },
  {
   "cell_type": "code",
   "execution_count": 44,
   "id": "960072d8",
   "metadata": {},
   "outputs": [],
   "source": [
    "combined_df = pd.concat([df_1, df2, df3])"
   ]
  },
  {
   "cell_type": "code",
   "execution_count": 45,
   "id": "7627209a",
   "metadata": {},
   "outputs": [],
   "source": [
    "from src.create_sql_tables import StockPrice\n",
    "from src.utils import insert_data\n",
    "\n",
    "insert_data(data=combined_df.to_dict(orient='records'),  #type:ignore\n",
    "            table=StockPrice)"
   ]
  },
  {
   "cell_type": "code",
   "execution_count": 50,
   "id": "d92e566f",
   "metadata": {},
   "outputs": [
    {
     "name": "stdout",
     "output_type": "stream",
     "text": [
      "there are 10,770,972 rows of stock price data.\n"
     ]
    }
   ],
   "source": [
    "#TODO: turn common statements into helper funcs\n",
    "\n",
    "from sqlalchemy import select, func\n",
    "from sqlalchemy.orm import Session\n",
    "\n",
    "from src.create_sql_tables import StockPrice\n",
    "\n",
    "# stmt = select(func.count()).select_from(my_table)\n",
    "stmt = select(func.count()).select_from(StockPrice)\n",
    "\n",
    "with Session(bind=engine) as session:\n",
    "    result = session.execute(statement=stmt)\n",
    "    print(f'there are {result.scalar_one():,} rows of stock price data.')"
   ]
  }
 ],
 "metadata": {
  "kernelspec": {
   "display_name": "proto-collect-stock-data-TaHiO2kv",
   "language": "python",
   "name": "python3"
  },
  "language_info": {
   "codemirror_mode": {
    "name": "ipython",
    "version": 3
   },
   "file_extension": ".py",
   "mimetype": "text/x-python",
   "name": "python",
   "nbconvert_exporter": "python",
   "pygments_lexer": "ipython3",
   "version": "3.13.3"
  }
 },
 "nbformat": 4,
 "nbformat_minor": 5
}
