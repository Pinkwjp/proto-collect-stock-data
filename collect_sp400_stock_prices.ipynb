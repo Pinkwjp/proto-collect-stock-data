{
 "cells": [
  {
   "cell_type": "code",
   "execution_count": 27,
   "id": "2f31e7ec",
   "metadata": {},
   "outputs": [
    {
     "data": {
      "text/html": [
       "<div>\n",
       "<style scoped>\n",
       "    .dataframe tbody tr th:only-of-type {\n",
       "        vertical-align: middle;\n",
       "    }\n",
       "\n",
       "    .dataframe tbody tr th {\n",
       "        vertical-align: top;\n",
       "    }\n",
       "\n",
       "    .dataframe thead th {\n",
       "        text-align: right;\n",
       "    }\n",
       "</style>\n",
       "<table border=\"1\" class=\"dataframe\">\n",
       "  <thead>\n",
       "    <tr style=\"text-align: right;\">\n",
       "      <th></th>\n",
       "      <th>Symbol</th>\n",
       "      <th>Security</th>\n",
       "      <th>GICS Sector</th>\n",
       "      <th>GICS Sub-Industry</th>\n",
       "      <th>Headquarters Location</th>\n",
       "    </tr>\n",
       "  </thead>\n",
       "  <tbody>\n",
       "    <tr>\n",
       "      <th>0</th>\n",
       "      <td>AA</td>\n",
       "      <td>Alcoa</td>\n",
       "      <td>Materials</td>\n",
       "      <td>Aluminum</td>\n",
       "      <td>Pittsburgh, Pennsylvania</td>\n",
       "    </tr>\n",
       "    <tr>\n",
       "      <th>1</th>\n",
       "      <td>AAL</td>\n",
       "      <td>American Airlines Group</td>\n",
       "      <td>Industrials</td>\n",
       "      <td>Passenger Airlines</td>\n",
       "      <td>Fort Worth, Texas</td>\n",
       "    </tr>\n",
       "    <tr>\n",
       "      <th>2</th>\n",
       "      <td>AAON</td>\n",
       "      <td>AAON</td>\n",
       "      <td>Industrials</td>\n",
       "      <td>Building Products</td>\n",
       "      <td>Tulsa, Oklahoma</td>\n",
       "    </tr>\n",
       "    <tr>\n",
       "      <th>3</th>\n",
       "      <td>ACHC</td>\n",
       "      <td>Acadia Healthcare</td>\n",
       "      <td>Health Care</td>\n",
       "      <td>Health Care Facilities</td>\n",
       "      <td>Franklin, Tennessee</td>\n",
       "    </tr>\n",
       "    <tr>\n",
       "      <th>4</th>\n",
       "      <td>ACI</td>\n",
       "      <td>Albertsons</td>\n",
       "      <td>Consumer Staples</td>\n",
       "      <td>Food Retail</td>\n",
       "      <td>Boise, Idaho</td>\n",
       "    </tr>\n",
       "  </tbody>\n",
       "</table>\n",
       "</div>"
      ],
      "text/plain": [
       "  Symbol  ...     Headquarters Location\n",
       "0     AA  ...  Pittsburgh, Pennsylvania\n",
       "1    AAL  ...         Fort Worth, Texas\n",
       "2   AAON  ...           Tulsa, Oklahoma\n",
       "3   ACHC  ...       Franklin, Tennessee\n",
       "4    ACI  ...              Boise, Idaho\n",
       "\n",
       "[5 rows x 5 columns]"
      ]
     },
     "execution_count": 27,
     "metadata": {},
     "output_type": "execute_result"
    }
   ],
   "source": [
    "import pandas as pd \n",
    "\n",
    "\n",
    "sp400 = pd.read_csv('index/sp400_mid_cap.csv')\n",
    "sp400.head()"
   ]
  },
  {
   "cell_type": "code",
   "execution_count": 30,
   "id": "daaf2b34",
   "metadata": {},
   "outputs": [],
   "source": [
    "assert sp400['Symbol'].notna().all()"
   ]
  },
  {
   "cell_type": "code",
   "execution_count": 31,
   "id": "0fe05e37",
   "metadata": {},
   "outputs": [],
   "source": [
    "symbols = sp400['Symbol'].to_list()"
   ]
  },
  {
   "cell_type": "code",
   "execution_count": 32,
   "id": "81743dcd",
   "metadata": {},
   "outputs": [
    {
     "name": "stdout",
     "output_type": "stream",
     "text": [
      "YF.download() has changed argument auto_adjust default to True\n"
     ]
    },
    {
     "name": "stderr",
     "output_type": "stream",
     "text": [
      "[*********************100%***********************]  401 of 401 completed\n",
      "/home/ping/Code/proto-collect-stock-data/src/utils.py:47: SettingWithCopyWarning: \n",
      "A value is trying to be set on a copy of a slice from a DataFrame.\n",
      "Try using .loc[row_indexer,col_indexer] = value instead\n",
      "\n",
      "See the caveats in the documentation: https://pandas.pydata.org/pandas-docs/stable/user_guide/indexing.html#returning-a-view-versus-a-copy\n",
      "  \n"
     ]
    }
   ],
   "source": [
    "from src.utils import download_max\n",
    "\n",
    "df = download_max(symbols=symbols)"
   ]
  },
  {
   "cell_type": "code",
   "execution_count": 37,
   "id": "5b875d7e",
   "metadata": {},
   "outputs": [
    {
     "data": {
      "text/html": [
       "<div>\n",
       "<style scoped>\n",
       "    .dataframe tbody tr th:only-of-type {\n",
       "        vertical-align: middle;\n",
       "    }\n",
       "\n",
       "    .dataframe tbody tr th {\n",
       "        vertical-align: top;\n",
       "    }\n",
       "\n",
       "    .dataframe thead th {\n",
       "        text-align: right;\n",
       "    }\n",
       "</style>\n",
       "<table border=\"1\" class=\"dataframe\">\n",
       "  <thead>\n",
       "    <tr style=\"text-align: right;\">\n",
       "      <th></th>\n",
       "      <th>trade_date</th>\n",
       "      <th>ticker</th>\n",
       "      <th>open_price</th>\n",
       "      <th>high_price</th>\n",
       "      <th>low_price</th>\n",
       "      <th>close_price</th>\n",
       "      <th>volume</th>\n",
       "    </tr>\n",
       "  </thead>\n",
       "  <tbody>\n",
       "    <tr>\n",
       "      <th>2716926</th>\n",
       "      <td>2025-05-30</td>\n",
       "      <td>CMC</td>\n",
       "      <td>46.00</td>\n",
       "      <td>46.84</td>\n",
       "      <td>45.50</td>\n",
       "      <td>46.59</td>\n",
       "      <td>1362200</td>\n",
       "    </tr>\n",
       "    <tr>\n",
       "      <th>2716927</th>\n",
       "      <td>2025-05-30</td>\n",
       "      <td>RYN</td>\n",
       "      <td>23.68</td>\n",
       "      <td>23.98</td>\n",
       "      <td>23.60</td>\n",
       "      <td>23.70</td>\n",
       "      <td>1551800</td>\n",
       "    </tr>\n",
       "    <tr>\n",
       "      <th>2716928</th>\n",
       "      <td>2025-05-30</td>\n",
       "      <td>BRX</td>\n",
       "      <td>25.62</td>\n",
       "      <td>25.74</td>\n",
       "      <td>25.24</td>\n",
       "      <td>25.41</td>\n",
       "      <td>2572300</td>\n",
       "    </tr>\n",
       "    <tr>\n",
       "      <th>2716929</th>\n",
       "      <td>2025-05-30</td>\n",
       "      <td>MMS</td>\n",
       "      <td>71.99</td>\n",
       "      <td>72.82</td>\n",
       "      <td>71.62</td>\n",
       "      <td>72.51</td>\n",
       "      <td>578100</td>\n",
       "    </tr>\n",
       "    <tr>\n",
       "      <th>2716930</th>\n",
       "      <td>2025-05-30</td>\n",
       "      <td>LPX</td>\n",
       "      <td>90.06</td>\n",
       "      <td>90.49</td>\n",
       "      <td>89.52</td>\n",
       "      <td>90.07</td>\n",
       "      <td>728700</td>\n",
       "    </tr>\n",
       "  </tbody>\n",
       "</table>\n",
       "</div>"
      ],
      "text/plain": [
       "         trade_date ticker  open_price  ...  low_price  close_price   volume\n",
       "2716926  2025-05-30    CMC       46.00  ...      45.50        46.59  1362200\n",
       "2716927  2025-05-30    RYN       23.68  ...      23.60        23.70  1551800\n",
       "2716928  2025-05-30    BRX       25.62  ...      25.24        25.41  2572300\n",
       "2716929  2025-05-30    MMS       71.99  ...      71.62        72.51   578100\n",
       "2716930  2025-05-30    LPX       90.06  ...      89.52        90.07   728700\n",
       "\n",
       "[5 rows x 7 columns]"
      ]
     },
     "execution_count": 37,
     "metadata": {},
     "output_type": "execute_result"
    }
   ],
   "source": [
    "df.tail()"
   ]
  },
  {
   "cell_type": "markdown",
   "id": "153d4b39",
   "metadata": {},
   "source": [
    "as there already stock data of sp500 companies in the stock_prices table, it may be better to trim the dataframe here to match the most recent date of the existing data in stock_prices table, as this will make future data fetching easier."
   ]
  },
  {
   "cell_type": "code",
   "execution_count": 38,
   "id": "427d8bd0",
   "metadata": {},
   "outputs": [],
   "source": [
    "from src.utils import get_db_engine\n",
    "\n",
    "engine = get_db_engine()"
   ]
  },
  {
   "cell_type": "code",
   "execution_count": 40,
   "id": "a7d85bef",
   "metadata": {},
   "outputs": [
    {
     "data": {
      "text/html": [
       "<div>\n",
       "<style scoped>\n",
       "    .dataframe tbody tr th:only-of-type {\n",
       "        vertical-align: middle;\n",
       "    }\n",
       "\n",
       "    .dataframe tbody tr th {\n",
       "        vertical-align: top;\n",
       "    }\n",
       "\n",
       "    .dataframe thead th {\n",
       "        text-align: right;\n",
       "    }\n",
       "</style>\n",
       "<table border=\"1\" class=\"dataframe\">\n",
       "  <thead>\n",
       "    <tr style=\"text-align: right;\">\n",
       "      <th></th>\n",
       "      <th>ticker</th>\n",
       "      <th>latest_record_date</th>\n",
       "    </tr>\n",
       "  </thead>\n",
       "  <tbody>\n",
       "    <tr>\n",
       "      <th>0</th>\n",
       "      <td>A</td>\n",
       "      <td>2025-05-08</td>\n",
       "    </tr>\n",
       "    <tr>\n",
       "      <th>1</th>\n",
       "      <td>AAPL</td>\n",
       "      <td>2025-05-08</td>\n",
       "    </tr>\n",
       "    <tr>\n",
       "      <th>2</th>\n",
       "      <td>ABBV</td>\n",
       "      <td>2025-05-08</td>\n",
       "    </tr>\n",
       "    <tr>\n",
       "      <th>3</th>\n",
       "      <td>ABNB</td>\n",
       "      <td>2025-05-08</td>\n",
       "    </tr>\n",
       "    <tr>\n",
       "      <th>4</th>\n",
       "      <td>ABT</td>\n",
       "      <td>2025-05-08</td>\n",
       "    </tr>\n",
       "  </tbody>\n",
       "</table>\n",
       "</div>"
      ],
      "text/plain": [
       "  ticker latest_record_date\n",
       "0      A         2025-05-08\n",
       "1   AAPL         2025-05-08\n",
       "2   ABBV         2025-05-08\n",
       "3   ABNB         2025-05-08\n",
       "4    ABT         2025-05-08"
      ]
     },
     "execution_count": 40,
     "metadata": {},
     "output_type": "execute_result"
    }
   ],
   "source": [
    "from importlib import reload\n",
    "from src import utils\n",
    "reload(utils)\n",
    "\n",
    "from src.utils import get_latest_record_date\n",
    "\n",
    "latest_df = get_latest_record_date(engine=engine)\n",
    "latest_df.head()"
   ]
  },
  {
   "cell_type": "markdown",
   "id": "4966cf36",
   "metadata": {},
   "source": [
    "check if all tickers share the same latest record date"
   ]
  },
  {
   "cell_type": "code",
   "execution_count": 41,
   "id": "ad73cec8",
   "metadata": {},
   "outputs": [],
   "source": [
    "assert (latest_df['latest_record_date'] == latest_df['latest_record_date'].max()).all()"
   ]
  },
  {
   "cell_type": "code",
   "execution_count": 46,
   "id": "90af64a5",
   "metadata": {},
   "outputs": [
    {
     "data": {
      "text/plain": [
       "datetime.date(2025, 5, 8)"
      ]
     },
     "execution_count": 46,
     "metadata": {},
     "output_type": "execute_result"
    }
   ],
   "source": [
    "date_latest_on_db = latest_df['latest_record_date'].max()\n",
    "date_latest_on_db"
   ]
  },
  {
   "cell_type": "code",
   "execution_count": 47,
   "id": "366901b3",
   "metadata": {},
   "outputs": [
    {
     "data": {
      "text/html": [
       "<div>\n",
       "<style scoped>\n",
       "    .dataframe tbody tr th:only-of-type {\n",
       "        vertical-align: middle;\n",
       "    }\n",
       "\n",
       "    .dataframe tbody tr th {\n",
       "        vertical-align: top;\n",
       "    }\n",
       "\n",
       "    .dataframe thead th {\n",
       "        text-align: right;\n",
       "    }\n",
       "</style>\n",
       "<table border=\"1\" class=\"dataframe\">\n",
       "  <thead>\n",
       "    <tr style=\"text-align: right;\">\n",
       "      <th></th>\n",
       "      <th>trade_date</th>\n",
       "      <th>ticker</th>\n",
       "      <th>open_price</th>\n",
       "      <th>high_price</th>\n",
       "      <th>low_price</th>\n",
       "      <th>close_price</th>\n",
       "      <th>volume</th>\n",
       "    </tr>\n",
       "  </thead>\n",
       "  <tbody>\n",
       "    <tr>\n",
       "      <th>2710911</th>\n",
       "      <td>2025-05-08</td>\n",
       "      <td>CMC</td>\n",
       "      <td>45.48</td>\n",
       "      <td>46.61</td>\n",
       "      <td>45.20</td>\n",
       "      <td>46.15</td>\n",
       "      <td>724000</td>\n",
       "    </tr>\n",
       "    <tr>\n",
       "      <th>2710912</th>\n",
       "      <td>2025-05-08</td>\n",
       "      <td>RYN</td>\n",
       "      <td>23.61</td>\n",
       "      <td>23.79</td>\n",
       "      <td>23.33</td>\n",
       "      <td>23.37</td>\n",
       "      <td>1198900</td>\n",
       "    </tr>\n",
       "    <tr>\n",
       "      <th>2710913</th>\n",
       "      <td>2025-05-08</td>\n",
       "      <td>BRX</td>\n",
       "      <td>25.36</td>\n",
       "      <td>25.50</td>\n",
       "      <td>24.87</td>\n",
       "      <td>25.11</td>\n",
       "      <td>2138100</td>\n",
       "    </tr>\n",
       "    <tr>\n",
       "      <th>2710914</th>\n",
       "      <td>2025-05-08</td>\n",
       "      <td>MMS</td>\n",
       "      <td>70.26</td>\n",
       "      <td>76.07</td>\n",
       "      <td>69.08</td>\n",
       "      <td>75.44</td>\n",
       "      <td>1188700</td>\n",
       "    </tr>\n",
       "    <tr>\n",
       "      <th>2710915</th>\n",
       "      <td>2025-05-08</td>\n",
       "      <td>LPX</td>\n",
       "      <td>90.74</td>\n",
       "      <td>91.42</td>\n",
       "      <td>89.56</td>\n",
       "      <td>90.09</td>\n",
       "      <td>544500</td>\n",
       "    </tr>\n",
       "  </tbody>\n",
       "</table>\n",
       "</div>"
      ],
      "text/plain": [
       "         trade_date ticker  open_price  ...  low_price  close_price   volume\n",
       "2710911  2025-05-08    CMC       45.48  ...      45.20        46.15   724000\n",
       "2710912  2025-05-08    RYN       23.61  ...      23.33        23.37  1198900\n",
       "2710913  2025-05-08    BRX       25.36  ...      24.87        25.11  2138100\n",
       "2710914  2025-05-08    MMS       70.26  ...      69.08        75.44  1188700\n",
       "2710915  2025-05-08    LPX       90.74  ...      89.56        90.09   544500\n",
       "\n",
       "[5 rows x 7 columns]"
      ]
     },
     "execution_count": 47,
     "metadata": {},
     "output_type": "execute_result"
    }
   ],
   "source": [
    "df_trimmed = df[df['trade_date'] <= date_latest_on_db]\n",
    "df_trimmed.tail()"
   ]
  },
  {
   "cell_type": "code",
   "execution_count": 48,
   "id": "23413597",
   "metadata": {},
   "outputs": [],
   "source": [
    "data = df_trimmed.to_dict(orient='records')"
   ]
  },
  {
   "cell_type": "code",
   "execution_count": 49,
   "id": "3a84ce12",
   "metadata": {},
   "outputs": [],
   "source": [
    "from src.utils import insert_data\n",
    "from src.create_sql_tables import StockPrice\n",
    "\n",
    "insert_data(data=data, table=StockPrice)"
   ]
  },
  {
   "cell_type": "code",
   "execution_count": null,
   "id": "e8075275",
   "metadata": {},
   "outputs": [],
   "source": []
  }
 ],
 "metadata": {
  "kernelspec": {
   "display_name": "proto-collect-stock-data-TaHiO2kv",
   "language": "python",
   "name": "python3"
  },
  "language_info": {
   "codemirror_mode": {
    "name": "ipython",
    "version": 3
   },
   "file_extension": ".py",
   "mimetype": "text/x-python",
   "name": "python",
   "nbconvert_exporter": "python",
   "pygments_lexer": "ipython3",
   "version": "3.13.3"
  }
 },
 "nbformat": 4,
 "nbformat_minor": 5
}
