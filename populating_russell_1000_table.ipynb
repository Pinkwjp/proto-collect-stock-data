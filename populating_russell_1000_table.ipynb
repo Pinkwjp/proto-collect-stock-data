{
 "cells": [
  {
   "cell_type": "code",
   "execution_count": 1,
   "id": "ee4d9f60",
   "metadata": {},
   "outputs": [
    {
     "name": "stdout",
     "output_type": "stream",
     "text": [
      "there are 6 tables\n"
     ]
    }
   ],
   "source": [
    "import pandas as pd \n",
    "\n",
    "\n",
    "dfs = pd.read_html('https://en.wikipedia.org/wiki/Russell_1000_Index')\n",
    "print(f'there are {len(dfs)} tables')"
   ]
  },
  {
   "cell_type": "code",
   "execution_count": 2,
   "id": "eb34ad6c",
   "metadata": {},
   "outputs": [
    {
     "data": {
      "text/html": [
       "<div>\n",
       "<style scoped>\n",
       "    .dataframe tbody tr th:only-of-type {\n",
       "        vertical-align: middle;\n",
       "    }\n",
       "\n",
       "    .dataframe tbody tr th {\n",
       "        vertical-align: top;\n",
       "    }\n",
       "\n",
       "    .dataframe thead th {\n",
       "        text-align: right;\n",
       "    }\n",
       "</style>\n",
       "<table border=\"1\" class=\"dataframe\">\n",
       "  <thead>\n",
       "    <tr style=\"text-align: right;\">\n",
       "      <th></th>\n",
       "      <th>Company</th>\n",
       "      <th>Symbol</th>\n",
       "      <th>GICS Sector</th>\n",
       "      <th>GICS Sub-Industry</th>\n",
       "    </tr>\n",
       "  </thead>\n",
       "  <tbody>\n",
       "    <tr>\n",
       "      <th>0</th>\n",
       "      <td>10x Genomics</td>\n",
       "      <td>TXG</td>\n",
       "      <td>Health Care</td>\n",
       "      <td>Health Care Technology</td>\n",
       "    </tr>\n",
       "    <tr>\n",
       "      <th>1</th>\n",
       "      <td>3M</td>\n",
       "      <td>MMM</td>\n",
       "      <td>Industrials</td>\n",
       "      <td>Industrial Conglomerates</td>\n",
       "    </tr>\n",
       "    <tr>\n",
       "      <th>2</th>\n",
       "      <td>A. O. Smith</td>\n",
       "      <td>AOS</td>\n",
       "      <td>Industrials</td>\n",
       "      <td>Building Products</td>\n",
       "    </tr>\n",
       "    <tr>\n",
       "      <th>3</th>\n",
       "      <td>AAON</td>\n",
       "      <td>AAON</td>\n",
       "      <td>Industrials</td>\n",
       "      <td>Building Products</td>\n",
       "    </tr>\n",
       "    <tr>\n",
       "      <th>4</th>\n",
       "      <td>Abbott Laboratories</td>\n",
       "      <td>ABT</td>\n",
       "      <td>Health Care</td>\n",
       "      <td>Health Care Equipment</td>\n",
       "    </tr>\n",
       "  </tbody>\n",
       "</table>\n",
       "</div>"
      ],
      "text/plain": [
       "               Company Symbol  GICS Sector         GICS Sub-Industry\n",
       "0         10x Genomics    TXG  Health Care    Health Care Technology\n",
       "1                   3M    MMM  Industrials  Industrial Conglomerates\n",
       "2          A. O. Smith    AOS  Industrials         Building Products\n",
       "3                 AAON   AAON  Industrials         Building Products\n",
       "4  Abbott Laboratories    ABT  Health Care     Health Care Equipment"
      ]
     },
     "execution_count": 2,
     "metadata": {},
     "output_type": "execute_result"
    }
   ],
   "source": [
    "df = None\n",
    "\n",
    "for d in dfs:\n",
    "    if 'Symbol' in set(d.columns.to_list()):\n",
    "        df = d \n",
    "\n",
    "assert df is not None\n",
    "\n",
    "df.head()"
   ]
  },
  {
   "cell_type": "code",
   "execution_count": 3,
   "id": "e8621124",
   "metadata": {},
   "outputs": [
    {
     "data": {
      "text/html": [
       "<div>\n",
       "<style scoped>\n",
       "    .dataframe tbody tr th:only-of-type {\n",
       "        vertical-align: middle;\n",
       "    }\n",
       "\n",
       "    .dataframe tbody tr th {\n",
       "        vertical-align: top;\n",
       "    }\n",
       "\n",
       "    .dataframe thead th {\n",
       "        text-align: right;\n",
       "    }\n",
       "</style>\n",
       "<table border=\"1\" class=\"dataframe\">\n",
       "  <thead>\n",
       "    <tr style=\"text-align: right;\">\n",
       "      <th></th>\n",
       "      <th>Company</th>\n",
       "      <th>Symbol</th>\n",
       "      <th>GICS Sector</th>\n",
       "      <th>GICS Sub-Industry</th>\n",
       "    </tr>\n",
       "  </thead>\n",
       "  <tbody>\n",
       "    <tr>\n",
       "      <th>997</th>\n",
       "      <td>Zions Bancorporation</td>\n",
       "      <td>ZION</td>\n",
       "      <td>Financials</td>\n",
       "      <td>Regional Banks</td>\n",
       "    </tr>\n",
       "    <tr>\n",
       "      <th>998</th>\n",
       "      <td>Zoetis</td>\n",
       "      <td>ZTS</td>\n",
       "      <td>Health Care</td>\n",
       "      <td>Pharmaceuticals</td>\n",
       "    </tr>\n",
       "    <tr>\n",
       "      <th>999</th>\n",
       "      <td>Zoom Communications</td>\n",
       "      <td>ZM</td>\n",
       "      <td>Information Technology</td>\n",
       "      <td>Application Software</td>\n",
       "    </tr>\n",
       "    <tr>\n",
       "      <th>1000</th>\n",
       "      <td>ZoomInfo</td>\n",
       "      <td>ZI</td>\n",
       "      <td>Communication Services</td>\n",
       "      <td>NaN</td>\n",
       "    </tr>\n",
       "    <tr>\n",
       "      <th>1001</th>\n",
       "      <td>Zscaler</td>\n",
       "      <td>ZS</td>\n",
       "      <td>Information Technology</td>\n",
       "      <td>Application Software</td>\n",
       "    </tr>\n",
       "  </tbody>\n",
       "</table>\n",
       "</div>"
      ],
      "text/plain": [
       "                   Company Symbol             GICS Sector  \\\n",
       "997   Zions Bancorporation   ZION              Financials   \n",
       "998                 Zoetis    ZTS             Health Care   \n",
       "999    Zoom Communications     ZM  Information Technology   \n",
       "1000              ZoomInfo     ZI  Communication Services   \n",
       "1001               Zscaler     ZS  Information Technology   \n",
       "\n",
       "         GICS Sub-Industry  \n",
       "997         Regional Banks  \n",
       "998        Pharmaceuticals  \n",
       "999   Application Software  \n",
       "1000                   NaN  \n",
       "1001  Application Software  "
      ]
     },
     "execution_count": 3,
     "metadata": {},
     "output_type": "execute_result"
    }
   ],
   "source": [
    "df.tail()"
   ]
  },
  {
   "cell_type": "code",
   "execution_count": 4,
   "id": "f0c88564",
   "metadata": {},
   "outputs": [
    {
     "name": "stdout",
     "output_type": "stream",
     "text": [
      "there are 1002 companies in Russell 1000 index\n"
     ]
    }
   ],
   "source": [
    "print(f'there are {df.shape[0]} companies in Russell 1000 index')"
   ]
  },
  {
   "cell_type": "code",
   "execution_count": 5,
   "id": "594a5e58",
   "metadata": {},
   "outputs": [
    {
     "name": "stdout",
     "output_type": "stream",
     "text": [
      "there are 1002 rows in table russell_1000.\n"
     ]
    }
   ],
   "source": [
    "from sqlalchemy.orm import Session\n",
    "\n",
    "from src.utils import get_db_engine\n",
    "from src.create_tables import RUSSELL1000\n",
    "\n",
    "table = RUSSELL1000\n",
    "\n",
    "engine = get_db_engine()\n",
    "session = Session(engine)\n",
    "\n",
    "count = session.query(table).count()\n",
    "print(f'there are {count} rows in table {table.__tablename__}.')"
   ]
  },
  {
   "cell_type": "code",
   "execution_count": 6,
   "id": "3ec652ce",
   "metadata": {},
   "outputs": [
    {
     "name": "stdout",
     "output_type": "stream",
     "text": [
      "Column: id, Type: INTEGER, Nullable: False\n",
      "Column: ticker, Type: VARCHAR(10), Nullable: False\n",
      "Column: company_name, Type: VARCHAR(100), Nullable: False\n",
      "Column: sector, Type: VARCHAR(100), Nullable: False\n",
      "Column: sub_industry, Type: VARCHAR(100), Nullable: False\n"
     ]
    }
   ],
   "source": [
    "for column in table.__table__.columns:\n",
    "    print(f'Column: {column.name}, Type: {column.type}, Nullable: {column.nullable}')"
   ]
  },
  {
   "cell_type": "code",
   "execution_count": 7,
   "id": "00a3bf22",
   "metadata": {},
   "outputs": [
    {
     "data": {
      "text/html": [
       "<div>\n",
       "<style scoped>\n",
       "    .dataframe tbody tr th:only-of-type {\n",
       "        vertical-align: middle;\n",
       "    }\n",
       "\n",
       "    .dataframe tbody tr th {\n",
       "        vertical-align: top;\n",
       "    }\n",
       "\n",
       "    .dataframe thead th {\n",
       "        text-align: right;\n",
       "    }\n",
       "</style>\n",
       "<table border=\"1\" class=\"dataframe\">\n",
       "  <thead>\n",
       "    <tr style=\"text-align: right;\">\n",
       "      <th></th>\n",
       "      <th>company_name</th>\n",
       "      <th>ticker</th>\n",
       "      <th>sector</th>\n",
       "      <th>sub_industry</th>\n",
       "    </tr>\n",
       "  </thead>\n",
       "  <tbody>\n",
       "    <tr>\n",
       "      <th>0</th>\n",
       "      <td>10x Genomics</td>\n",
       "      <td>TXG</td>\n",
       "      <td>Health Care</td>\n",
       "      <td>Health Care Technology</td>\n",
       "    </tr>\n",
       "    <tr>\n",
       "      <th>1</th>\n",
       "      <td>3M</td>\n",
       "      <td>MMM</td>\n",
       "      <td>Industrials</td>\n",
       "      <td>Industrial Conglomerates</td>\n",
       "    </tr>\n",
       "    <tr>\n",
       "      <th>2</th>\n",
       "      <td>A. O. Smith</td>\n",
       "      <td>AOS</td>\n",
       "      <td>Industrials</td>\n",
       "      <td>Building Products</td>\n",
       "    </tr>\n",
       "    <tr>\n",
       "      <th>3</th>\n",
       "      <td>AAON</td>\n",
       "      <td>AAON</td>\n",
       "      <td>Industrials</td>\n",
       "      <td>Building Products</td>\n",
       "    </tr>\n",
       "    <tr>\n",
       "      <th>4</th>\n",
       "      <td>Abbott Laboratories</td>\n",
       "      <td>ABT</td>\n",
       "      <td>Health Care</td>\n",
       "      <td>Health Care Equipment</td>\n",
       "    </tr>\n",
       "  </tbody>\n",
       "</table>\n",
       "</div>"
      ],
      "text/plain": [
       "          company_name ticker       sector              sub_industry\n",
       "0         10x Genomics    TXG  Health Care    Health Care Technology\n",
       "1                   3M    MMM  Industrials  Industrial Conglomerates\n",
       "2          A. O. Smith    AOS  Industrials         Building Products\n",
       "3                 AAON   AAON  Industrials         Building Products\n",
       "4  Abbott Laboratories    ABT  Health Care     Health Care Equipment"
      ]
     },
     "execution_count": 7,
     "metadata": {},
     "output_type": "execute_result"
    }
   ],
   "source": [
    "df.rename(columns={'Company': 'company_name',\n",
    "                   'Symbol': 'ticker',\n",
    "                   'GICS Sector': 'sector',\n",
    "                   'GICS Sub-Industry': 'sub_industry'}, inplace=True)\n",
    "\n",
    "df.head()"
   ]
  },
  {
   "cell_type": "code",
   "execution_count": 8,
   "id": "50e4027c",
   "metadata": {},
   "outputs": [
    {
     "name": "stdout",
     "output_type": "stream",
     "text": [
      "column company_name contains null value: False\n",
      "column ticker contains null value: False\n",
      "column sector contains null value: False\n",
      "column sub_industry contains null value: True\n"
     ]
    }
   ],
   "source": [
    "for c in df.columns: # type: ignore\n",
    "    print(f'column {c} contains null value: {df[c].isna().any()}')"
   ]
  },
  {
   "cell_type": "code",
   "execution_count": 9,
   "id": "de55be00",
   "metadata": {},
   "outputs": [
    {
     "data": {
      "text/html": [
       "<div>\n",
       "<style scoped>\n",
       "    .dataframe tbody tr th:only-of-type {\n",
       "        vertical-align: middle;\n",
       "    }\n",
       "\n",
       "    .dataframe tbody tr th {\n",
       "        vertical-align: top;\n",
       "    }\n",
       "\n",
       "    .dataframe thead th {\n",
       "        text-align: right;\n",
       "    }\n",
       "</style>\n",
       "<table border=\"1\" class=\"dataframe\">\n",
       "  <thead>\n",
       "    <tr style=\"text-align: right;\">\n",
       "      <th></th>\n",
       "      <th>company_name</th>\n",
       "      <th>ticker</th>\n",
       "      <th>sector</th>\n",
       "      <th>sub_industry</th>\n",
       "    </tr>\n",
       "  </thead>\n",
       "  <tbody>\n",
       "    <tr>\n",
       "      <th>10</th>\n",
       "      <td>ADT Inc.</td>\n",
       "      <td>ADT</td>\n",
       "      <td>Consumer Discretionary</td>\n",
       "      <td>NaN</td>\n",
       "    </tr>\n",
       "    <tr>\n",
       "      <th>12</th>\n",
       "      <td>Advanced Drainage Systems</td>\n",
       "      <td>WMS</td>\n",
       "      <td>Industrials</td>\n",
       "      <td>NaN</td>\n",
       "    </tr>\n",
       "    <tr>\n",
       "      <th>17</th>\n",
       "      <td>Affirm Holdings</td>\n",
       "      <td>AFRM</td>\n",
       "      <td>Information Technology</td>\n",
       "      <td>NaN</td>\n",
       "    </tr>\n",
       "    <tr>\n",
       "      <th>21</th>\n",
       "      <td>Agree Realty</td>\n",
       "      <td>ADC</td>\n",
       "      <td>Real Estate</td>\n",
       "      <td>NaN</td>\n",
       "    </tr>\n",
       "    <tr>\n",
       "      <th>22</th>\n",
       "      <td>AGNC Investment</td>\n",
       "      <td>AGNC</td>\n",
       "      <td>Financials</td>\n",
       "      <td>NaN</td>\n",
       "    </tr>\n",
       "    <tr>\n",
       "      <th>...</th>\n",
       "      <td>...</td>\n",
       "      <td>...</td>\n",
       "      <td>...</td>\n",
       "      <td>...</td>\n",
       "    </tr>\n",
       "    <tr>\n",
       "      <th>979</th>\n",
       "      <td>WillScot Mobile Mini</td>\n",
       "      <td>WSC</td>\n",
       "      <td>Industrials</td>\n",
       "      <td>NaN</td>\n",
       "    </tr>\n",
       "    <tr>\n",
       "      <th>980</th>\n",
       "      <td>Wingstop</td>\n",
       "      <td>WING</td>\n",
       "      <td>Consumer Discretionary</td>\n",
       "      <td>NaN</td>\n",
       "    </tr>\n",
       "    <tr>\n",
       "      <th>994</th>\n",
       "      <td>Zillow (Class A)</td>\n",
       "      <td>ZG</td>\n",
       "      <td>Real Estate</td>\n",
       "      <td>NaN</td>\n",
       "    </tr>\n",
       "    <tr>\n",
       "      <th>995</th>\n",
       "      <td>Zillow (Class C)</td>\n",
       "      <td>Z</td>\n",
       "      <td>Real Estate</td>\n",
       "      <td>NaN</td>\n",
       "    </tr>\n",
       "    <tr>\n",
       "      <th>1000</th>\n",
       "      <td>ZoomInfo</td>\n",
       "      <td>ZI</td>\n",
       "      <td>Communication Services</td>\n",
       "      <td>NaN</td>\n",
       "    </tr>\n",
       "  </tbody>\n",
       "</table>\n",
       "<p>206 rows × 4 columns</p>\n",
       "</div>"
      ],
      "text/plain": [
       "                   company_name ticker                  sector sub_industry\n",
       "10                     ADT Inc.    ADT  Consumer Discretionary          NaN\n",
       "12    Advanced Drainage Systems    WMS             Industrials          NaN\n",
       "17              Affirm Holdings   AFRM  Information Technology          NaN\n",
       "21                 Agree Realty    ADC             Real Estate          NaN\n",
       "22              AGNC Investment   AGNC              Financials          NaN\n",
       "...                         ...    ...                     ...          ...\n",
       "979        WillScot Mobile Mini    WSC             Industrials          NaN\n",
       "980                    Wingstop   WING  Consumer Discretionary          NaN\n",
       "994            Zillow (Class A)     ZG             Real Estate          NaN\n",
       "995            Zillow (Class C)      Z             Real Estate          NaN\n",
       "1000                   ZoomInfo     ZI  Communication Services          NaN\n",
       "\n",
       "[206 rows x 4 columns]"
      ]
     },
     "execution_count": 9,
     "metadata": {},
     "output_type": "execute_result"
    }
   ],
   "source": [
    "df[df['sub_industry'].isna()]"
   ]
  },
  {
   "cell_type": "code",
   "execution_count": 10,
   "id": "9c847d4d",
   "metadata": {},
   "outputs": [],
   "source": [
    "df = df.fillna(value='unknown')\n",
    "\n",
    "for c in df.columns:\n",
    "    assert df[c].notna().all()"
   ]
  },
  {
   "cell_type": "code",
   "execution_count": 11,
   "id": "ee15cd2d",
   "metadata": {},
   "outputs": [],
   "source": [
    "# from sqlalchemy import String\n",
    "\n",
    "# assert df is not None\n",
    "\n",
    "# df.to_sql('russell_1000', con=engine, index=False, if_exists='append',\n",
    "#           dtype={'ticker': String(10), \n",
    "#                  'company_name': String(100), \n",
    "#                  'sector': String(100), \n",
    "#                  'sub_industry': String(100)}) # type: ignore"
   ]
  },
  {
   "cell_type": "code",
   "execution_count": 12,
   "id": "830542f2",
   "metadata": {},
   "outputs": [],
   "source": [
    "df.to_csv('index/russell_1000.csv', index=False)"
   ]
  }
 ],
 "metadata": {
  "kernelspec": {
   "display_name": "proto-collect-stock-data-TaHiO2kv",
   "language": "python",
   "name": "python3"
  },
  "language_info": {
   "codemirror_mode": {
    "name": "ipython",
    "version": 3
   },
   "file_extension": ".py",
   "mimetype": "text/x-python",
   "name": "python",
   "nbconvert_exporter": "python",
   "pygments_lexer": "ipython3",
   "version": "3.13.3"
  }
 },
 "nbformat": 4,
 "nbformat_minor": 5
}
